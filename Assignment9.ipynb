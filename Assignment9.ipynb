{
 "cells": [
  {
   "cell_type": "markdown",
   "id": "bfbdcdae-e819-4936-90c4-980cbbe91878",
   "metadata": {},
   "source": [
    "1. To what does a relative path refer?"
   ]
  },
  {
   "cell_type": "markdown",
   "id": "06ea26d2-fc51-4262-8615-c728fd876f32",
   "metadata": {},
   "source": [
    "Ans . A relative path in Python is a path that describes the location of a directory relative to the entry point where you run the Python script."
   ]
  },
  {
   "cell_type": "markdown",
   "id": "04eb9fee-33e6-46d2-b8b5-16ab91ebe689",
   "metadata": {},
   "source": [
    "2. What does an absolute path start with your operating system?"
   ]
  },
  {
   "cell_type": "markdown",
   "id": "489546b1-81a7-4dca-bc84-1c83c80a457e",
   "metadata": {},
   "source": [
    "Ans .An absolute path always begins from the absolute start of your hard drive and describes every step you must take through the filesystem to end up at the target location."
   ]
  },
  {
   "cell_type": "markdown",
   "id": "e16bdd61-3977-40f8-8721-37c5c5aaf225",
   "metadata": {},
   "source": [
    "3. What do the functions os.getcwd() and os.chdir() do?"
   ]
  },
  {
   "cell_type": "markdown",
   "id": "c2621e6b-9ca1-4f43-a7cb-904957ab39b3",
   "metadata": {},
   "source": [
    "ans .getcwd() is to get the current working directory and os.chdir is function to change the wokring directory "
   ]
  },
  {
   "cell_type": "code",
   "execution_count": 14,
   "id": "f25a48b2-945c-4e31-825e-f544d64e5010",
   "metadata": {},
   "outputs": [
    {
     "data": {
      "text/plain": [
       "'/home/jovyan/work'"
      ]
     },
     "execution_count": 14,
     "metadata": {},
     "output_type": "execute_result"
    }
   ],
   "source": [
    "import os\n",
    "os.getcwd()"
   ]
  },
  {
   "cell_type": "markdown",
   "id": "af03454a-d961-4ac0-b3c8-940868c36e1d",
   "metadata": {},
   "source": [
    "4. What are the . and .. folders?"
   ]
  },
  {
   "cell_type": "markdown",
   "id": "53a52c74-e9f7-4704-b28d-96cf6fbfdd39",
   "metadata": {},
   "source": [
    "Ans . refers folders refers to the absolute path and .. folders refers to the relative path "
   ]
  },
  {
   "cell_type": "markdown",
   "id": "b72ba48d-bc71-487e-8616-efc9ea3e0716",
   "metadata": {},
   "source": [
    "5. In C:\\bacon\\eggs\\spam.txt, which part is the dir name, and which part is the base name?"
   ]
  },
  {
   "cell_type": "markdown",
   "id": "1ce5a208-b9ce-4768-bbb9-acc4b7764593",
   "metadata": {},
   "source": [
    "Ans . C is the dir name and spam is the base name"
   ]
  },
  {
   "cell_type": "markdown",
   "id": "b737b1b9-e297-4adc-80e9-ba67bdd993bb",
   "metadata": {},
   "source": [
    "6. What are the three “mode” arguments that can be passed to the open() function?"
   ]
  },
  {
   "cell_type": "markdown",
   "id": "ba0f440c-b91c-4815-81aa-36cc8f64ddeb",
   "metadata": {},
   "source": [
    "Ans . read , write & append "
   ]
  },
  {
   "cell_type": "markdown",
   "id": "1471c387-8375-4b90-823f-797d065b7414",
   "metadata": {},
   "source": [
    "7. What happens if an existing file is opened in write mode?"
   ]
  },
  {
   "cell_type": "markdown",
   "id": "c8d0900f-1701-4a9d-b118-21f6f4340246",
   "metadata": {},
   "source": [
    "Ans .write() method returns the number of characters written into the file. While writing into a file, if the file opened in 'w' or 'w+' mode does not exist, a new file will be created in the same name in our present working directory."
   ]
  },
  {
   "cell_type": "markdown",
   "id": "f796bd5b-b63f-4719-8ad8-1966621957f0",
   "metadata": {},
   "source": [
    "8. How do you tell the difference between read() and readlines()?"
   ]
  },
  {
   "cell_type": "markdown",
   "id": "3f82705f-b941-488b-9add-82a92f48874d",
   "metadata": {},
   "source": [
    "Ans.The read() will read the whole file at once and then print out the first characters that take up as many bytes as you specify in the parenthesis versus the readline() that will read and print out only the first characters that take up as many bytes as you specify in the parenthesis"
   ]
  },
  {
   "cell_type": "markdown",
   "id": "f806c291-4f64-4564-b837-daebadcdf755",
   "metadata": {},
   "source": [
    "9. What data structure does a shelf value resemble?"
   ]
  },
  {
   "cell_type": "markdown",
   "id": "16c62dc7-888b-442d-82c9-40455ee6c0ab",
   "metadata": {},
   "source": [
    "A shelf value resembles a dictionary value; it has keys and values, along with keys() and values() methods that work similarly to the dictionary methods of the same names."
   ]
  },
  {
   "cell_type": "code",
   "execution_count": null,
   "id": "72975308-0742-4b09-a300-32b5cb9ff217",
   "metadata": {},
   "outputs": [],
   "source": []
  }
 ],
 "metadata": {
  "kernelspec": {
   "display_name": "Python 3 (ipykernel)",
   "language": "python",
   "name": "python3"
  },
  "language_info": {
   "codemirror_mode": {
    "name": "ipython",
    "version": 3
   },
   "file_extension": ".py",
   "mimetype": "text/x-python",
   "name": "python",
   "nbconvert_exporter": "python",
   "pygments_lexer": "ipython3",
   "version": "3.10.6"
  }
 },
 "nbformat": 4,
 "nbformat_minor": 5
}
